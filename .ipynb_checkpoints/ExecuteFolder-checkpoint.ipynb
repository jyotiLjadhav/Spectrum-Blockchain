{
 "cells": [
  {
   "cell_type": "code",
   "execution_count": null,
   "id": "ffc7dea5-dee6-4474-a3af-d104aa87cb5c",
   "metadata": {
    "scrolled": true
   },
   "outputs": [],
   "source": [
    "%run crub.py\n"
   ]
  },
  {
   "cell_type": "code",
   "execution_count": null,
   "id": "454154c4-cc94-4e78-9cc7-c1c42f6be7fe",
   "metadata": {},
   "outputs": [],
   "source": [
    "\n",
    "#code.py"
   ]
  },
  {
   "cell_type": "code",
   "execution_count": 15,
   "id": "2795be07-a75e-4a8f-b2f7-6d00c546b469",
   "metadata": {},
   "outputs": [],
   "source": [
    "from utility.hash_util import hash_block\n"
   ]
  },
  {
   "cell_type": "code",
   "execution_count": 16,
   "id": "d4655ba3-ad73-4ce4-aa1c-99d758838112",
   "metadata": {
    "scrolled": true
   },
   "outputs": [
    {
     "name": "stdout",
     "output_type": "stream",
     "text": [
      "Collecting pycryptodome\n",
      "  Downloading pycryptodome-3.23.0-cp37-abi3-win_amd64.whl.metadata (3.5 kB)\n",
      "Downloading pycryptodome-3.23.0-cp37-abi3-win_amd64.whl (1.8 MB)\n",
      "   ---------------------------------------- 0.0/1.8 MB ? eta -:--:--\n",
      "   ---------------------------------------- 1.8/1.8 MB 24.4 MB/s eta 0:00:00\n",
      "Installing collected packages: pycryptodome\n",
      "Successfully installed pycryptodome-3.23.0\n"
     ]
    },
    {
     "name": "stderr",
     "output_type": "stream",
     "text": [
      "\n",
      "[notice] A new release of pip is available: 24.2 -> 25.2\n",
      "[notice] To update, run: python.exe -m pip install --upgrade pip\n"
     ]
    }
   ],
   "source": [
    "!pip install pycryptodome\n"
   ]
  },
  {
   "cell_type": "code",
   "execution_count": 17,
   "id": "341af18c-7442-4eb3-bcb2-23b61185e274",
   "metadata": {},
   "outputs": [],
   "source": [
    "verify the installation#\n",
    "from Crypto.PublicKey import RSA\n"
   ]
  },
  {
   "cell_type": "code",
   "execution_count": null,
   "id": "cbb405c5-1144-4fb8-8a32-85e22c2c00da",
   "metadata": {},
   "outputs": [],
   "source": [
    "Open File Explorer\n",
    "Go to:\n",
    "\n",
    "Desktop → 2ke23cs405 → spectrum-blockchain-master\n",
    "\n",
    "\n",
    "Look for files named:\n",
    "\n",
    "PU_small.ppm\n",
    "\n",
    "SU_small.ppm\n",
    "\n",
    "They should be in the same folder as crub.py.\n",
    "\n",
    "If you don’t see them:\n",
    "\n",
    "That means they are missing from the project ZIP you got.\n",
    "\n",
    "Tkinter can’t load them → so you’ll need to create dummy images or get the original .ppm images.\n",
    "\n",
    "⚡ If you just want to quickly test the project:\n",
    "You can create dummy .ppm files directly inside the project folder with this code (run in JupyterLab inside the project directory):\n",
    "\n",
    "from PIL import Image\n",
    "\n",
    "# Create placeholder Primary User image (red)\n",
    "pu = Image.new(\"RGB\", (50, 50), color=\"red\")\n",
    "pu.save(\"PU_small.ppm\")\n",
    "\n",
    "# Create placeholder Secondary User image (blue)\n",
    "su = Image.new(\"RGB\", (50, 50), color=\"blue\")\n",
    "su.save(\"SU_small.ppm\")\n",
    "\n",
    "print(\"Dummy PU_small.ppm and SU_small.ppm created in project folder.\")"
   ]
  },
  {
   "cell_type": "code",
   "execution_count": 19,
   "id": "a1103520-ff5e-483a-9352-006334187c6b",
   "metadata": {},
   "outputs": [
    {
     "name": "stdout",
     "output_type": "stream",
     "text": [
      "Dummy PU_small.ppm and SU_small.ppm created in project folder.\n"
     ]
    }
   ],
   "source": [
    "from PIL import Image\n",
    "\n",
    "# Create placeholder Primary User image (red)\n",
    "pu = Image.new(\"RGB\", (50, 50), color=\"red\")\n",
    "pu.save(\"PU_small.ppm\")\n",
    "\n",
    "# Create placeholder Secondary User image (blue)\n",
    "su = Image.new(\"RGB\", (50, 50), color=\"blue\")\n",
    "su.save(\"SU_small.ppm\")\n",
    "\n",
    "print(\"Dummy PU_small.ppm and SU_small.ppm created in project folder.\")\n"
   ]
  },
  {
   "cell_type": "code",
   "execution_count": 1,
   "id": "647a2da0-0121-4fc8-8081-6ba229fa2cac",
   "metadata": {},
   "outputs": [
    {
     "name": "stdout",
     "output_type": "stream",
     "text": [
      "Collecting flask-cors\n",
      "  Downloading flask_cors-6.0.1-py3-none-any.whl.metadata (5.3 kB)\n",
      "Requirement already satisfied: flask>=0.9 in c:\\users\\admin\\appdata\\local\\programs\\python\\python312\\lib\\site-packages (from flask-cors) (3.1.2)\n",
      "Requirement already satisfied: Werkzeug>=0.7 in c:\\users\\admin\\appdata\\local\\programs\\python\\python312\\lib\\site-packages (from flask-cors) (3.1.3)\n",
      "Requirement already satisfied: blinker>=1.9.0 in c:\\users\\admin\\appdata\\local\\programs\\python\\python312\\lib\\site-packages (from flask>=0.9->flask-cors) (1.9.0)\n",
      "Requirement already satisfied: click>=8.1.3 in c:\\users\\admin\\appdata\\local\\programs\\python\\python312\\lib\\site-packages (from flask>=0.9->flask-cors) (8.2.1)\n",
      "Requirement already satisfied: itsdangerous>=2.2.0 in c:\\users\\admin\\appdata\\local\\programs\\python\\python312\\lib\\site-packages (from flask>=0.9->flask-cors) (2.2.0)\n",
      "Requirement already satisfied: jinja2>=3.1.2 in c:\\users\\admin\\appdata\\local\\programs\\python\\python312\\lib\\site-packages (from flask>=0.9->flask-cors) (3.1.6)\n",
      "Requirement already satisfied: markupsafe>=2.1.1 in c:\\users\\admin\\appdata\\local\\programs\\python\\python312\\lib\\site-packages (from flask>=0.9->flask-cors) (3.0.2)\n",
      "Requirement already satisfied: colorama in c:\\users\\admin\\appdata\\local\\programs\\python\\python312\\lib\\site-packages (from click>=8.1.3->flask>=0.9->flask-cors) (0.4.6)\n",
      "Downloading flask_cors-6.0.1-py3-none-any.whl (13 kB)\n",
      "Installing collected packages: flask-cors\n",
      "Successfully installed flask-cors-6.0.1\n"
     ]
    },
    {
     "name": "stderr",
     "output_type": "stream",
     "text": [
      "\n",
      "[notice] A new release of pip is available: 24.2 -> 25.2\n",
      "[notice] To update, run: python.exe -m pip install --upgrade pip\n"
     ]
    }
   ],
   "source": [
    "!pip install flask-cors"
   ]
  },
  {
   "cell_type": "code",
   "execution_count": null,
   "id": "bb32db06-f5f7-4340-92bf-35afd0871255",
   "metadata": {},
   "outputs": [],
   "source": [
    "print(\"heelo\")"
   ]
  },
  {
   "cell_type": "code",
   "execution_count": null,
   "id": "25efac2b-87a9-4f67-b3fb-c072fba4fa1e",
   "metadata": {},
   "outputs": [],
   "source": [
    "## THIS ANOTHER TRY EXECUTES\n",
    "cheak this code before run this   %run crub.py"
   ]
  },
  {
   "cell_type": "code",
   "execution_count": 2,
   "id": "4d6322f3-c1e7-4441-a4ff-ca9e2e2eefbe",
   "metadata": {},
   "outputs": [
    {
     "name": "stdout",
     "output_type": "stream",
     "text": [
      "Requirement already satisfied: flask in c:\\users\\admin\\appdata\\local\\programs\\python\\python312\\lib\\site-packages (3.1.2)\n",
      "Requirement already satisfied: requests in c:\\users\\admin\\appdata\\local\\programs\\python\\python312\\lib\\site-packages (2.32.3)\n",
      "Requirement already satisfied: cryptography in c:\\users\\admin\\appdata\\local\\programs\\python\\python312\\lib\\site-packages (45.0.6)\n",
      "Requirement already satisfied: ecdsa in c:\\users\\admin\\appdata\\local\\programs\\python\\python312\\lib\\site-packages (0.19.1)\n",
      "Requirement already satisfied: blinker>=1.9.0 in c:\\users\\admin\\appdata\\local\\programs\\python\\python312\\lib\\site-packages (from flask) (1.9.0)\n",
      "Requirement already satisfied: click>=8.1.3 in c:\\users\\admin\\appdata\\local\\programs\\python\\python312\\lib\\site-packages (from flask) (8.2.1)\n",
      "Requirement already satisfied: itsdangerous>=2.2.0 in c:\\users\\admin\\appdata\\local\\programs\\python\\python312\\lib\\site-packages (from flask) (2.2.0)\n",
      "Requirement already satisfied: jinja2>=3.1.2 in c:\\users\\admin\\appdata\\local\\programs\\python\\python312\\lib\\site-packages (from flask) (3.1.6)\n",
      "Requirement already satisfied: markupsafe>=2.1.1 in c:\\users\\admin\\appdata\\local\\programs\\python\\python312\\lib\\site-packages (from flask) (3.0.2)\n",
      "Requirement already satisfied: werkzeug>=3.1.0 in c:\\users\\admin\\appdata\\local\\programs\\python\\python312\\lib\\site-packages (from flask) (3.1.3)\n",
      "Requirement already satisfied: charset-normalizer<4,>=2 in c:\\users\\admin\\appdata\\local\\programs\\python\\python312\\lib\\site-packages (from requests) (3.3.2)\n",
      "Requirement already satisfied: idna<4,>=2.5 in c:\\users\\admin\\appdata\\local\\programs\\python\\python312\\lib\\site-packages (from requests) (3.7)\n",
      "Requirement already satisfied: urllib3<3,>=1.21.1 in c:\\users\\admin\\appdata\\local\\programs\\python\\python312\\lib\\site-packages (from requests) (2.2.2)\n",
      "Requirement already satisfied: certifi>=2017.4.17 in c:\\users\\admin\\appdata\\local\\programs\\python\\python312\\lib\\site-packages (from requests) (2024.6.2)\n",
      "Requirement already satisfied: cffi>=1.14 in c:\\users\\admin\\appdata\\local\\programs\\python\\python312\\lib\\site-packages (from cryptography) (1.17.1)\n",
      "Requirement already satisfied: six>=1.9.0 in c:\\users\\admin\\appdata\\local\\programs\\python\\python312\\lib\\site-packages (from ecdsa) (1.17.0)\n",
      "Requirement already satisfied: pycparser in c:\\users\\admin\\appdata\\local\\programs\\python\\python312\\lib\\site-packages (from cffi>=1.14->cryptography) (2.22)\n",
      "Requirement already satisfied: colorama in c:\\users\\admin\\appdata\\local\\programs\\python\\python312\\lib\\site-packages (from click>=8.1.3->flask) (0.4.6)\n"
     ]
    },
    {
     "name": "stderr",
     "output_type": "stream",
     "text": [
      "\n",
      "[notice] A new release of pip is available: 24.2 -> 25.2\n",
      "[notice] To update, run: python.exe -m pip install --upgrade pip\n"
     ]
    }
   ],
   "source": [
    "# ---------------------------\n",
    "# Cell 1 - Install dependencies\n",
    "# ---------------------------\n",
    "import sys\n",
    "!{sys.executable} -m pip install flask requests cryptography ecdsa\n"
   ]
  },
  {
   "cell_type": "code",
   "execution_count": 3,
   "id": "7fb4b026-f956-48be-a4f6-0c9e6da7fd40",
   "metadata": {},
   "outputs": [
    {
     "name": "stdout",
     "output_type": "stream",
     "text": [
      "Requirement already satisfied: flask in c:\\users\\admin\\appdata\\local\\programs\\python\\python312\\lib\\site-packages (3.1.2)\n",
      "Requirement already satisfied: requests in c:\\users\\admin\\appdata\\local\\programs\\python\\python312\\lib\\site-packages (2.32.3)\n",
      "Requirement already satisfied: cryptography in c:\\users\\admin\\appdata\\local\\programs\\python\\python312\\lib\\site-packages (45.0.6)\n",
      "Requirement already satisfied: ecdsa in c:\\users\\admin\\appdata\\local\\programs\\python\\python312\\lib\\site-packages (0.19.1)\n",
      "Requirement already satisfied: blinker>=1.9.0 in c:\\users\\admin\\appdata\\local\\programs\\python\\python312\\lib\\site-packages (from flask) (1.9.0)\n",
      "Requirement already satisfied: click>=8.1.3 in c:\\users\\admin\\appdata\\local\\programs\\python\\python312\\lib\\site-packages (from flask) (8.2.1)\n",
      "Requirement already satisfied: itsdangerous>=2.2.0 in c:\\users\\admin\\appdata\\local\\programs\\python\\python312\\lib\\site-packages (from flask) (2.2.0)\n",
      "Requirement already satisfied: jinja2>=3.1.2 in c:\\users\\admin\\appdata\\local\\programs\\python\\python312\\lib\\site-packages (from flask) (3.1.6)\n",
      "Requirement already satisfied: markupsafe>=2.1.1 in c:\\users\\admin\\appdata\\local\\programs\\python\\python312\\lib\\site-packages (from flask) (3.0.2)\n",
      "Requirement already satisfied: werkzeug>=3.1.0 in c:\\users\\admin\\appdata\\local\\programs\\python\\python312\\lib\\site-packages (from flask) (3.1.3)\n",
      "Requirement already satisfied: charset-normalizer<4,>=2 in c:\\users\\admin\\appdata\\local\\programs\\python\\python312\\lib\\site-packages (from requests) (3.3.2)\n",
      "Requirement already satisfied: idna<4,>=2.5 in c:\\users\\admin\\appdata\\local\\programs\\python\\python312\\lib\\site-packages (from requests) (3.7)\n",
      "Requirement already satisfied: urllib3<3,>=1.21.1 in c:\\users\\admin\\appdata\\local\\programs\\python\\python312\\lib\\site-packages (from requests) (2.2.2)\n",
      "Requirement already satisfied: certifi>=2017.4.17 in c:\\users\\admin\\appdata\\local\\programs\\python\\python312\\lib\\site-packages (from requests) (2024.6.2)\n",
      "Requirement already satisfied: cffi>=1.14 in c:\\users\\admin\\appdata\\local\\programs\\python\\python312\\lib\\site-packages (from cryptography) (1.17.1)\n",
      "Requirement already satisfied: six>=1.9.0 in c:\\users\\admin\\appdata\\local\\programs\\python\\python312\\lib\\site-packages (from ecdsa) (1.17.0)\n",
      "Requirement already satisfied: pycparser in c:\\users\\admin\\appdata\\local\\programs\\python\\python312\\lib\\site-packages (from cffi>=1.14->cryptography) (2.22)\n",
      "Requirement already satisfied: colorama in c:\\users\\admin\\appdata\\local\\programs\\python\\python312\\lib\\site-packages (from click>=8.1.3->flask) (0.4.6)\n"
     ]
    },
    {
     "name": "stderr",
     "output_type": "stream",
     "text": [
      "\n",
      "[notice] A new release of pip is available: 24.2 -> 25.2\n",
      "[notice] To update, run: python.exe -m pip install --upgrade pip\n"
     ]
    }
   ],
   "source": [
    "# ---------------------------\n",
    "# Cell 1 - Install dependencies\n",
    "# ---------------------------\n",
    "import sys\n",
    "!{sys.executable} -m pip install flask requests cryptography ecdsa\n"
   ]
  },
  {
   "cell_type": "code",
   "execution_count": 4,
   "id": "4b0beec3-5c8c-438f-8535-00491444d36d",
   "metadata": {},
   "outputs": [
    {
     "name": "stdout",
     "output_type": "stream",
     "text": [
      "blockchain\n",
      "All modules imported successfully ✅\n"
     ]
    }
   ],
   "source": [
    "# ---------------------------\n",
    "# Cell 3 - Test imports\n",
    "# ---------------------------\n",
    "try:\n",
    "    import block, blockchain, transaction, wallet, node, crub\n",
    "    print(\"All modules imported successfully ✅\")\n",
    "except Exception as e:\n",
    "    print(\"❌ Import error:\", e)\n"
   ]
  },
  {
   "cell_type": "code",
   "execution_count": null,
   "id": "111101ad-f84f-474b-9fb6-772b39e8f1ee",
   "metadata": {},
   "outputs": [],
   "source": []
  }
 ],
 "metadata": {
  "kernelspec": {
   "display_name": "Python 3 (ipykernel)",
   "language": "python",
   "name": "python3"
  },
  "language_info": {
   "codemirror_mode": {
    "name": "ipython",
    "version": 3
   },
   "file_extension": ".py",
   "mimetype": "text/x-python",
   "name": "python",
   "nbconvert_exporter": "python",
   "pygments_lexer": "ipython3",
   "version": "3.12.5"
  }
 },
 "nbformat": 4,
 "nbformat_minor": 5
}
